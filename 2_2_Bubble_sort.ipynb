{
  "nbformat": 4,
  "nbformat_minor": 0,
  "metadata": {
    "colab": {
      "name": "2.2_Bubble_sort.ipynb",
      "provenance": [],
      "collapsed_sections": [],
      "authorship_tag": "ABX9TyOJQPbuFZqbHplGOQeCk4fD",
      "include_colab_link": true
    },
    "kernelspec": {
      "name": "python3",
      "display_name": "Python 3"
    }
  },
  "cells": [
    {
      "cell_type": "markdown",
      "metadata": {
        "id": "view-in-github",
        "colab_type": "text"
      },
      "source": [
        "<a href=\"https://colab.research.google.com/github/joselufb/Sorting-Algorithms/blob/main/2_2_Bubble_sort.ipynb\" target=\"_parent\"><img src=\"https://colab.research.google.com/assets/colab-badge.svg\" alt=\"Open In Colab\"/></a>"
      ]
    },
    {
      "cell_type": "code",
      "metadata": {
        "id": "6BoIZKDfuVld"
      },
      "source": [
        "def bubble_sort(array):\r\n",
        "    # Function to sort a list using Bubble Sort Algorithm\r\n",
        "    sorted = False\r\n",
        "\r\n",
        "    while not sorted:\r\n",
        "        sorted = True\r\n",
        "\r\n",
        "        for i in range(0, len(array) - 1):\r\n",
        "            if array[i] > array[i+1]:\r\n",
        "                sorted = False\r\n",
        "                array[i], array[i+1] = array[i+1], array[i]\r\n",
        "    \r\n",
        "    return array\r\n"
      ],
      "execution_count": 11,
      "outputs": []
    },
    {
      "cell_type": "code",
      "metadata": {
        "colab": {
          "base_uri": "https://localhost:8080/"
        },
        "id": "-Cdz-jXvuyDe",
        "outputId": "26d6b4c5-f26d-47dc-a6e3-9beecea5ca11"
      },
      "source": [
        "# Generation of random numeric list to be ordered\r\n",
        "import random\r\n",
        "\r\n",
        "my_list = [random.randint(0, 100) for i in range(10)]\r\n",
        "print(my_list)"
      ],
      "execution_count": 17,
      "outputs": [
        {
          "output_type": "stream",
          "text": [
            "[30, 63, 74, 97, 67, 98, 8, 16, 93, 71]\n"
          ],
          "name": "stdout"
        }
      ]
    },
    {
      "cell_type": "code",
      "metadata": {
        "colab": {
          "base_uri": "https://localhost:8080/"
        },
        "id": "ABT81F0ev7wZ",
        "outputId": "41fa54c1-a5f4-4cb7-9b04-e94ce38775c3"
      },
      "source": [
        "bubble_sort(my_list)\r\n",
        "\r\n",
        "print(my_list)"
      ],
      "execution_count": 18,
      "outputs": [
        {
          "output_type": "stream",
          "text": [
            "[8, 16, 30, 63, 67, 71, 74, 93, 97, 98]\n"
          ],
          "name": "stdout"
        }
      ]
    }
  ]
}