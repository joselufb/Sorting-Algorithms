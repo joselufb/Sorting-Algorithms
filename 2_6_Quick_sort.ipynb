{
  "nbformat": 4,
  "nbformat_minor": 0,
  "metadata": {
    "colab": {
      "name": "2.6_Quick_sort.ipynb",
      "provenance": [],
      "collapsed_sections": [],
      "authorship_tag": "ABX9TyOmGNUjY355Jr7/Pji8fdPW",
      "include_colab_link": true
    },
    "kernelspec": {
      "name": "python3",
      "display_name": "Python 3"
    }
  },
  "cells": [
    {
      "cell_type": "markdown",
      "metadata": {
        "id": "view-in-github",
        "colab_type": "text"
      },
      "source": [
        "<a href=\"https://colab.research.google.com/github/joselufb/Sorting-Algorithms/blob/main/2_6_Quick_sort.ipynb\" target=\"_parent\"><img src=\"https://colab.research.google.com/assets/colab-badge.svg\" alt=\"Open In Colab\"/></a>"
      ]
    },
    {
      "cell_type": "code",
      "metadata": {
        "id": "I21zx2p2zpO5"
      },
      "source": [
        "def quick_sort(array):\r\n",
        "    # Function to sort a list using Quick Sort Algorithm\r\n",
        "\r\n",
        "    if len(array) <= 1:\r\n",
        "        return array\r\n",
        "    \r\n",
        "    else:\r\n",
        "        # Pivot selected from the last element of the list\r\n",
        "        pivot = array.pop()\r\n",
        "\r\n",
        "        i_greater = []\r\n",
        "        i_lower = []\r\n",
        "\r\n",
        "        for i in array:\r\n",
        "            if i > pivot:\r\n",
        "                i_greater.append(i)\r\n",
        "            else:\r\n",
        "                i_lower.append(i)\r\n",
        "        \r\n",
        "        return quick_sort(i_lower) + [pivot] + quick_sort(i_greater)\r\n"
      ],
      "execution_count": 32,
      "outputs": []
    },
    {
      "cell_type": "code",
      "metadata": {
        "colab": {
          "base_uri": "https://localhost:8080/"
        },
        "id": "AbNg8oa5zvLK",
        "outputId": "9d2b1356-ce75-45ae-8183-596d3b1cfdde"
      },
      "source": [
        "# Generation of random numeric list to be ordered\r\n",
        "import random\r\n",
        "\r\n",
        "my_list = [random.randint(0, 100) for i in range(10)]\r\n",
        "print(my_list)"
      ],
      "execution_count": 35,
      "outputs": [
        {
          "output_type": "stream",
          "text": [
            "[77, 20, 88, 81, 31, 26, 22, 2, 43, 8]\n"
          ],
          "name": "stdout"
        }
      ]
    },
    {
      "cell_type": "code",
      "metadata": {
        "colab": {
          "base_uri": "https://localhost:8080/"
        },
        "id": "5NdXPzKTzvlt",
        "outputId": "40915e3a-f93f-4f0a-dba0-abe4346628f7"
      },
      "source": [
        "print(quick_sort(my_list))"
      ],
      "execution_count": 36,
      "outputs": [
        {
          "output_type": "stream",
          "text": [
            "[2, 8, 20, 22, 26, 31, 43, 77, 81, 88]\n"
          ],
          "name": "stdout"
        }
      ]
    }
  ]
}