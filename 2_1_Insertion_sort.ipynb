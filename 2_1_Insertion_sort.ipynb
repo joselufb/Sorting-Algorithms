{
  "nbformat": 4,
  "nbformat_minor": 0,
  "metadata": {
    "colab": {
      "name": "2.1_Insertion_sort.ipynb",
      "provenance": [],
      "collapsed_sections": [],
      "authorship_tag": "ABX9TyPVXyAf6FXM9eidFxu4xDHK",
      "include_colab_link": true
    },
    "kernelspec": {
      "name": "python3",
      "display_name": "Python 3"
    }
  },
  "cells": [
    {
      "cell_type": "markdown",
      "metadata": {
        "id": "view-in-github",
        "colab_type": "text"
      },
      "source": [
        "<a href=\"https://colab.research.google.com/github/joselufb/Sorting-Algorithms/blob/main/2_1_Insertion_sort.ipynb\" target=\"_parent\"><img src=\"https://colab.research.google.com/assets/colab-badge.svg\" alt=\"Open In Colab\"/></a>"
      ]
    },
    {
      "cell_type": "markdown",
      "metadata": {
        "id": "IbluPlu4NCFN"
      },
      "source": [
        "#### Sorting Algorithm: Insertion Sort"
      ]
    },
    {
      "cell_type": "code",
      "metadata": {
        "id": "7bD4h6lRPKgs"
      },
      "source": [
        "def insertionSort(array):\r\n",
        "\r\n",
        "    for i in range(1, len(array)):\r\n",
        "        current = array[i]\r\n",
        "        pos = i\r\n",
        "\r\n",
        "        while pos > 0 and array[pos - 1] > current:\r\n",
        "            array[pos] = array[pos - 1]\r\n",
        "            pos -= 1\r\n",
        "        \r\n",
        "        array[pos] = current    \r\n"
      ],
      "execution_count": 15,
      "outputs": []
    },
    {
      "cell_type": "code",
      "metadata": {
        "colab": {
          "base_uri": "https://localhost:8080/"
        },
        "id": "2QIptOSrNPrc",
        "outputId": "cf6a7f08-b0b7-49aa-e77c-ba911039fc4b"
      },
      "source": [
        "# Generation of random numeric list to be ordered\r\n",
        "import random\r\n",
        "\r\n",
        "my_list = [random.randint(0, 100) for i in range(10)]\r\n",
        "print(my_list)"
      ],
      "execution_count": 7,
      "outputs": [
        {
          "output_type": "stream",
          "text": [
            "[99, 74, 14, 82, 6, 13, 68, 31, 20, 73]\n"
          ],
          "name": "stdout"
        }
      ]
    },
    {
      "cell_type": "code",
      "metadata": {
        "colab": {
          "base_uri": "https://localhost:8080/"
        },
        "id": "60x3ar37TdS1",
        "outputId": "9956670b-5088-4965-8a3e-e3530d3dc306"
      },
      "source": [
        "insertionSort(my_list)\r\n",
        "print(my_list)"
      ],
      "execution_count": 16,
      "outputs": [
        {
          "output_type": "stream",
          "text": [
            "[6, 13, 14, 20, 31, 68, 73, 74, 82, 99]\n"
          ],
          "name": "stdout"
        }
      ]
    },
    {
      "cell_type": "code",
      "metadata": {
        "id": "x-K9w5XDXNvB"
      },
      "source": [
        ""
      ],
      "execution_count": null,
      "outputs": []
    }
  ]
}