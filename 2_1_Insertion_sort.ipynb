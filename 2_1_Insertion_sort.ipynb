{
  "nbformat": 4,
  "nbformat_minor": 0,
  "metadata": {
    "colab": {
      "name": "2.1_Insertion_sort.ipynb",
      "provenance": [],
      "collapsed_sections": [],
      "authorship_tag": "ABX9TyMX0sgVkAKim3ohVa5AGxG0",
      "include_colab_link": true
    },
    "kernelspec": {
      "name": "python3",
      "display_name": "Python 3"
    }
  },
  "cells": [
    {
      "cell_type": "markdown",
      "metadata": {
        "id": "view-in-github",
        "colab_type": "text"
      },
      "source": [
        "<a href=\"https://colab.research.google.com/github/joselufb/Sorting-Algorithms/blob/main/2_1_Insertion_sort.ipynb\" target=\"_parent\"><img src=\"https://colab.research.google.com/assets/colab-badge.svg\" alt=\"Open In Colab\"/></a>"
      ]
    },
    {
      "cell_type": "markdown",
      "metadata": {
        "id": "IbluPlu4NCFN"
      },
      "source": [
        "#### Sorting Algorithm: Insertion Sort"
      ]
    },
    {
      "cell_type": "code",
      "metadata": {
        "id": "7bD4h6lRPKgs"
      },
      "source": [
        "def insertion_sort(array):\r\n",
        "\r\n",
        "    for i in range(1, len(array)):\r\n",
        "        current = array[i]\r\n",
        "        \r\n",
        "        while array[i - 1] > current and i > 0:\r\n",
        "            array[i], array[i - 1] = array[i - 1], array[i]\r\n",
        "            i -= 1\r\n",
        "        \r\n",
        "    return array    \r\n"
      ],
      "execution_count": 5,
      "outputs": []
    },
    {
      "cell_type": "code",
      "metadata": {
        "colab": {
          "base_uri": "https://localhost:8080/"
        },
        "id": "2QIptOSrNPrc",
        "outputId": "3829422c-6ecb-4d8a-9eb1-8e1aaa20d2aa"
      },
      "source": [
        "# Generation of random numeric list to be ordered\r\n",
        "import random\r\n",
        "\r\n",
        "my_list = [random.randint(0, 100) for i in range(10)]\r\n",
        "print(my_list)"
      ],
      "execution_count": 3,
      "outputs": [
        {
          "output_type": "stream",
          "text": [
            "[80, 42, 17, 20, 34, 96, 13, 21, 95, 47]\n"
          ],
          "name": "stdout"
        }
      ]
    },
    {
      "cell_type": "code",
      "metadata": {
        "colab": {
          "base_uri": "https://localhost:8080/"
        },
        "id": "60x3ar37TdS1",
        "outputId": "20ca32d8-2de2-424e-ef59-af6fe21c2864"
      },
      "source": [
        "insertion_sort(my_list)\r\n",
        "\r\n",
        "print(my_list)"
      ],
      "execution_count": 6,
      "outputs": [
        {
          "output_type": "stream",
          "text": [
            "[13, 17, 20, 21, 34, 42, 47, 80, 95, 96]\n"
          ],
          "name": "stdout"
        }
      ]
    },
    {
      "cell_type": "code",
      "metadata": {
        "id": "x-K9w5XDXNvB"
      },
      "source": [
        ""
      ],
      "execution_count": null,
      "outputs": []
    }
  ]
}