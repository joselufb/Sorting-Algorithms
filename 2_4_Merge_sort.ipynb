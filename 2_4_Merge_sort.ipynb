{
  "nbformat": 4,
  "nbformat_minor": 0,
  "metadata": {
    "colab": {
      "name": "2.4_Merge_sort.ipynb",
      "provenance": [],
      "collapsed_sections": [],
      "authorship_tag": "ABX9TyNKA40jt/3Pcgh/3cT10Bze",
      "include_colab_link": true
    },
    "kernelspec": {
      "name": "python3",
      "display_name": "Python 3"
    }
  },
  "cells": [
    {
      "cell_type": "markdown",
      "metadata": {
        "id": "view-in-github",
        "colab_type": "text"
      },
      "source": [
        "<a href=\"https://colab.research.google.com/github/joselufb/Sorting-Algorithms/blob/main/2_4_Merge_sort.ipynb\" target=\"_parent\"><img src=\"https://colab.research.google.com/assets/colab-badge.svg\" alt=\"Open In Colab\"/></a>"
      ]
    },
    {
      "cell_type": "code",
      "metadata": {
        "id": "LVVQhbSR_NYz"
      },
      "source": [
        "def merge_sort(array):\r\n",
        "    # Function to sort a list using Merge Sort Algorithm\r\n",
        "\r\n",
        "    if len(array) > 1:\r\n",
        "        \r\n",
        "        # The list is divided in two halves\r\n",
        "        mid = len(array) // 2\r\n",
        "        left = array[:mid]\r\n",
        "        right = array[mid:]\r\n",
        "\r\n",
        "        # Recursive call until obtain single elements of the list\r\n",
        "        merge_sort(left)\r\n",
        "        merge_sort(right)\r\n",
        "\r\n",
        "        # i/j are iterators for the two halves\r\n",
        "        # k is an interator for the main list\r\n",
        "        i = j = k = 0\r\n",
        "\r\n",
        "        while i < len(left) and j < len(right):\r\n",
        "            if left[i] < right[j]:\r\n",
        "                array[k] = left[i]\r\n",
        "                i += 1\r\n",
        "            \r\n",
        "            else:\r\n",
        "                array[k] = right[j]\r\n",
        "                j += 1\r\n",
        "            \r\n",
        "            k += 1\r\n",
        "        \r\n",
        "        while i < len(left):\r\n",
        "            array[k] = left[i]\r\n",
        "            i += 1\r\n",
        "            k += 1\r\n",
        "        \r\n",
        "        while j < len(right):\r\n",
        "            array[k] = right[j]\r\n",
        "            j += 1\r\n",
        "            k += 1\r\n",
        "\r\n",
        "    return array   \r\n"
      ],
      "execution_count": 2,
      "outputs": []
    },
    {
      "cell_type": "code",
      "metadata": {
        "colab": {
          "base_uri": "https://localhost:8080/"
        },
        "id": "y_dhv5L_nFZE",
        "outputId": "43dd4e38-8133-4b50-966f-e50f8899e1b6"
      },
      "source": [
        "# Generation of random numeric list to be ordered\r\n",
        "import random\r\n",
        "\r\n",
        "my_list = [random.randint(0, 100) for i in range(10)]\r\n",
        "print(my_list)"
      ],
      "execution_count": 1,
      "outputs": [
        {
          "output_type": "stream",
          "text": [
            "[5, 35, 91, 90, 82, 29, 51, 64, 84, 9]\n"
          ],
          "name": "stdout"
        }
      ]
    },
    {
      "cell_type": "code",
      "metadata": {
        "colab": {
          "base_uri": "https://localhost:8080/"
        },
        "id": "GEeQvGcXt3kr",
        "outputId": "473423a5-2d91-4b13-c012-d301189886d4"
      },
      "source": [
        "print(merge_sort(my_list))"
      ],
      "execution_count": 4,
      "outputs": [
        {
          "output_type": "stream",
          "text": [
            "[5, 9, 29, 35, 51, 64, 82, 84, 90, 91]\n"
          ],
          "name": "stdout"
        }
      ]
    }
  ]
}