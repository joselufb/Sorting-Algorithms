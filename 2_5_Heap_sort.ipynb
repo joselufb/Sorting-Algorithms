{
  "nbformat": 4,
  "nbformat_minor": 0,
  "metadata": {
    "colab": {
      "name": "2.5_Heap_sort.ipynb",
      "provenance": [],
      "collapsed_sections": [],
      "authorship_tag": "ABX9TyPt0KJVDxL6MGrCEfS5J/wG",
      "include_colab_link": true
    },
    "kernelspec": {
      "name": "python3",
      "display_name": "Python 3"
    }
  },
  "cells": [
    {
      "cell_type": "markdown",
      "metadata": {
        "id": "view-in-github",
        "colab_type": "text"
      },
      "source": [
        "<a href=\"https://colab.research.google.com/github/joselufb/Sorting-Algorithms/blob/main/2_5_Heap_sort.ipynb\" target=\"_parent\"><img src=\"https://colab.research.google.com/assets/colab-badge.svg\" alt=\"Open In Colab\"/></a>"
      ]
    },
    {
      "cell_type": "code",
      "metadata": {
        "id": "DQV8xFAvjmVM"
      },
      "source": [
        "def heapify(array, n, i):\r\n",
        "    # Function to apply heapify in the array\r\n",
        "    # n = size of the heap\r\n",
        "    \r\n",
        "    largest = i     # largest = root\r\n",
        "    L = 2 * i + 1   # L brand of the heap using internal position i\r\n",
        "    R = 2 * i + 2   # R brand of the heap using internal position i\r\n",
        "\r\n",
        "    # Check if L/R child exists and if it is lower than root\r\n",
        "    if L < n and array[largest] < array[L]:\r\n",
        "        largest = L\r\n",
        "    if R < n and array[largest] < array[R]:\r\n",
        "        largest = R\r\n",
        "\r\n",
        "    # If root is not the largest, swap it.\r\n",
        "    if largest != i:\r\n",
        "        array[i], array[largest] = array[largest], array[i]\r\n",
        "        \r\n",
        "        # Apply recurrency with the new largest value\r\n",
        "        heapify(array, n, largest)\r\n",
        "\r\n",
        "\r\n",
        "def heap_sort(array):\r\n",
        "    # Function to sort a list using Heap Sort Algorithm\r\n",
        "\r\n",
        "    n = len(array)\r\n",
        "\r\n",
        "    # Build max heap\r\n",
        "    for i in range(n//2 - 1, -1, -1):\r\n",
        "        heapify(array, n, i)\r\n",
        "    \r\n",
        "    for i in range(n-1, 0, -1):\r\n",
        "        # Swap values and apply heapify to root element\r\n",
        "        array[i], array[0] = array[0], array[i]\r\n",
        "        heapify(array, i, 0)\r\n",
        "\r\n",
        "    return array\r\n"
      ],
      "execution_count": 12,
      "outputs": []
    },
    {
      "cell_type": "code",
      "metadata": {
        "colab": {
          "base_uri": "https://localhost:8080/"
        },
        "id": "n3iyql_MjrxZ",
        "outputId": "843b92f9-f963-4fbb-d170-a9db90f7621d"
      },
      "source": [
        "# Generation of random numeric list to be ordered\r\n",
        "import random\r\n",
        "\r\n",
        "my_list = [random.randint(0, 100) for i in range(10)]\r\n",
        "print(my_list)"
      ],
      "execution_count": 14,
      "outputs": [
        {
          "output_type": "stream",
          "text": [
            "[1, 8, 20, 21, 18, 38, 8, 57, 4, 94]\n"
          ],
          "name": "stdout"
        }
      ]
    },
    {
      "cell_type": "code",
      "metadata": {
        "colab": {
          "base_uri": "https://localhost:8080/"
        },
        "id": "PUi57BG8jr4A",
        "outputId": "a42f3716-e326-4aa3-baf5-82c8d0644b25"
      },
      "source": [
        "print(heap_sort(my_list))"
      ],
      "execution_count": 15,
      "outputs": [
        {
          "output_type": "stream",
          "text": [
            "[1, 4, 8, 8, 18, 20, 21, 38, 57, 94]\n"
          ],
          "name": "stdout"
        }
      ]
    }
  ]
}