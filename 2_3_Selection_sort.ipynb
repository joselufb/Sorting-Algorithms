{
  "nbformat": 4,
  "nbformat_minor": 0,
  "metadata": {
    "colab": {
      "name": "2.3_Selection_sort.ipynb",
      "provenance": [],
      "collapsed_sections": [],
      "authorship_tag": "ABX9TyMGH8PEiRRwuoZU+3wYz/J9",
      "include_colab_link": true
    },
    "kernelspec": {
      "name": "python3",
      "display_name": "Python 3"
    }
  },
  "cells": [
    {
      "cell_type": "markdown",
      "metadata": {
        "id": "view-in-github",
        "colab_type": "text"
      },
      "source": [
        "<a href=\"https://colab.research.google.com/github/joselufb/Sorting-Algorithms/blob/main/2_3_Selection_sort.ipynb\" target=\"_parent\"><img src=\"https://colab.research.google.com/assets/colab-badge.svg\" alt=\"Open In Colab\"/></a>"
      ]
    },
    {
      "cell_type": "code",
      "metadata": {
        "id": "kEggyxRp4xrj"
      },
      "source": [
        "def selection_sort(array):\r\n",
        "    # Function to sort a list using Selection Sort Algorithm\r\n",
        "\r\n",
        "    for i in range(0, len(array) - 1):\r\n",
        "        for j in range(i+1, len(array)):\r\n",
        "            if array[i] > array[j]:\r\n",
        "                array[i], array[j] = array[j], array[i]\r\n",
        "\r\n",
        "    return array\r\n"
      ],
      "execution_count": 8,
      "outputs": []
    },
    {
      "cell_type": "code",
      "metadata": {
        "colab": {
          "base_uri": "https://localhost:8080/"
        },
        "id": "OxdoEaIG5MBn",
        "outputId": "d2085b63-1359-4d63-f156-9ba8fc66d5df"
      },
      "source": [
        "# Generation of random numeric list to be ordered\r\n",
        "import random\r\n",
        "\r\n",
        "my_list = [random.randint(0, 100) for i in range(10)]\r\n",
        "print(my_list)"
      ],
      "execution_count": 11,
      "outputs": [
        {
          "output_type": "stream",
          "text": [
            "[80, 100, 76, 60, 33, 60, 58, 90, 53, 40]\n"
          ],
          "name": "stdout"
        }
      ]
    },
    {
      "cell_type": "code",
      "metadata": {
        "colab": {
          "base_uri": "https://localhost:8080/"
        },
        "id": "JE_FUAV35L01",
        "outputId": "1da1f7e8-f697-4a37-b403-b1096c56601d"
      },
      "source": [
        "selection_sort(my_list)\r\n",
        "print(my_list)"
      ],
      "execution_count": 12,
      "outputs": [
        {
          "output_type": "stream",
          "text": [
            "[33, 40, 53, 58, 60, 60, 76, 80, 90, 100]\n"
          ],
          "name": "stdout"
        }
      ]
    }
  ]
}